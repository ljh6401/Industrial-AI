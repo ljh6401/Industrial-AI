{
 "cells": [
  {
   "cell_type": "markdown",
   "id": "61dff576-39af-40d3-ae44-a3bf59ae5528",
   "metadata": {},
   "source": [
    "# 소프트웨어 재판매 이익예측 form Tayko by KH"
   ]
  },
  {
   "cell_type": "markdown",
   "id": "fc30b070-206b-40ea-a078-9aa3e6592c12",
   "metadata": {},
   "source": [
    "## 라이브러리 임포트"
   ]
  },
  {
   "cell_type": "code",
   "execution_count": 476,
   "id": "7b0962fa-0a3f-451f-a1a9-16a53661d829",
   "metadata": {},
   "outputs": [
    {
     "name": "stdout",
     "output_type": "stream",
     "text": [
      "1.2.1\n"
     ]
    }
   ],
   "source": [
    "from pathlib import Path\n",
    "\n",
    "import pandas as pd\n",
    "import sklearn\n",
    "from sklearn.model_selection import train_test_split\n",
    "from sklearn.linear_model import LinearRegression, Lasso, Ridge, LassoCV, BayesianRidge\n",
    "import statsmodels.formula.api as sm\n",
    "import matplotlib.pylab as plt\n",
    "\n",
    "import dmba\n",
    "from dmba import regressionSummary, exhaustive_search\n",
    "from dmba import backward_elimination, forward_selection, stepwise_selection\n",
    "from dmba import adjusted_r2_score, AIC_score, BIC_score\n",
    "\n",
    "%matplotlib inline\n",
    "\n",
    "print(sklearn.__version__)\n"
   ]
  },
  {
   "cell_type": "markdown",
   "id": "40888703-a1bc-49fc-83a0-fcbcc6fbc540",
   "metadata": {},
   "source": [
    "## 데이타프레임 생성 및 변수 정리"
   ]
  },
  {
   "cell_type": "code",
   "execution_count": 477,
   "id": "5804f4d0-c39e-4a22-9d1c-5e7d6601cf4c",
   "metadata": {},
   "outputs": [],
   "source": [
    "soft_df = dmba.load_data('tayko.csv')\n",
    "soft_df = soft_df.iloc[0:2000]"
   ]
  },
  {
   "cell_type": "code",
   "execution_count": 478,
   "id": "fc88e2f9-82f2-4d92-a775-80ae6e1291c3",
   "metadata": {},
   "outputs": [
    {
     "name": "stdout",
     "output_type": "stream",
     "text": [
      "Web order\n",
      "Gender=male\n"
     ]
    }
   ],
   "source": [
    "print(soft_df.columns.values[20])\n",
    "print(soft_df.columns.values[21])"
   ]
  },
  {
   "cell_type": "code",
   "execution_count": 479,
   "id": "50498620-d1b3-49ca-aa03-fb0c3ed674ae",
   "metadata": {},
   "outputs": [],
   "source": [
    "# 컬럼 이름 바꾸기\n",
    "soft_df.columns.values[20] = 'WebOrder'\n",
    "soft_df.columns.values[21] = 'GenderMale'"
   ]
  },
  {
   "cell_type": "code",
   "execution_count": 480,
   "id": "7e5a38d8-eb10-4a39-bc1f-15f154d85ef5",
   "metadata": {},
   "outputs": [],
   "source": [
    "#모든 컬럼 확인\n",
    "#print(soft_df)"
   ]
  },
  {
   "cell_type": "code",
   "execution_count": 481,
   "id": "8c8ef113-df77-4fc7-9bd8-da16d794540c",
   "metadata": {},
   "outputs": [],
   "source": [
    "# 컬럼 삭제 \n",
    "soft_df.drop(['source_a','source_c','source_b','source_d','source_e'\n",
    "             ,'source_m','source_o','source_h','source_r','source_s'\n",
    "             ,'source_t','source_u','source_p','source_x','source_w'\n",
    "             ,'1st_update_days_ago','Purchase'], axis=1, inplace=True)"
   ]
  },
  {
   "cell_type": "code",
   "execution_count": 482,
   "id": "da77a8ef-38ba-4f45-9a79-00f534e381a9",
   "metadata": {},
   "outputs": [
    {
     "name": "stdout",
     "output_type": "stream",
     "text": [
      "      sequence_number  US  Freq  last_update_days_ago  WebOrder  GenderMale  \\\n",
      "0                   1   1     2                  3662         1           0   \n",
      "1                   2   1     0                  2900         1           1   \n",
      "2                   3   1     2                  3883         0           0   \n",
      "3                   4   1     1                   829         0           1   \n",
      "4                   5   1     1                   869         0           0   \n",
      "...               ...  ..   ...                   ...       ...         ...   \n",
      "1995             1996   1     1                  1701         1           0   \n",
      "1996             1997   1     1                  2633         1           1   \n",
      "1997             1998   1     0                  3394         0           0   \n",
      "1998             1999   1     1                   253         0           1   \n",
      "1999             2000   1     1                  1261         0           0   \n",
      "\n",
      "      Address_is_res  Spending  \n",
      "0                  1       128  \n",
      "1                  0         0  \n",
      "2                  0       127  \n",
      "3                  0         0  \n",
      "4                  0         0  \n",
      "...              ...       ...  \n",
      "1995               0        30  \n",
      "1996               0        10  \n",
      "1997               0         0  \n",
      "1998               1         0  \n",
      "1999               0         0  \n",
      "\n",
      "[2000 rows x 8 columns]\n"
     ]
    }
   ],
   "source": [
    "print(soft_df)"
   ]
  },
  {
   "cell_type": "code",
   "execution_count": 483,
   "id": "6bf1a912-33b2-490b-9315-496468401335",
   "metadata": {},
   "outputs": [],
   "source": [
    "#null data 확인\n",
    "#soft_df.isnull()"
   ]
  },
  {
   "cell_type": "code",
   "execution_count": 484,
   "id": "091dac44-9912-45cc-97d8-17099921c642",
   "metadata": {},
   "outputs": [
    {
     "data": {
      "text/plain": [
       "sequence_number         0\n",
       "US                      0\n",
       "Freq                    0\n",
       "last_update_days_ago    0\n",
       "WebOrder                0\n",
       "GenderMale              0\n",
       "Address_is_res          0\n",
       "Spending                0\n",
       "dtype: int64"
      ]
     },
     "execution_count": 484,
     "metadata": {},
     "output_type": "execute_result"
    }
   ],
   "source": [
    "#null data 확인\n",
    "soft_df.isnull().sum()"
   ]
  },
  {
   "cell_type": "code",
   "execution_count": 485,
   "id": "7fd76d30-901e-4b3d-abb5-e27394375558",
   "metadata": {},
   "outputs": [],
   "source": [
    "# 만약 null 값이 있을 경우 삭제방법\n",
    "# soft_df = soft_df.dropna()   null값이 있는 모든 행 삭제\n",
    "# 또는 soft_df = df.dropna(axis=1)   null값이 있는 열(coulumn) 모두 제거"
   ]
  },
  {
   "cell_type": "code",
   "execution_count": 486,
   "id": "f3abfed6-088f-41d2-b8e8-1426048f1ed5",
   "metadata": {},
   "outputs": [
    {
     "name": "stdout",
     "output_type": "stream",
     "text": [
      "       sequence_number           US         Freq  last_update_days_ago  \\\n",
      "count      2000.000000  2000.000000  2000.000000           2000.000000   \n",
      "mean       1000.500000     0.824500     1.417000           2155.101000   \n",
      "std         577.494589     0.380489     1.405738           1141.302846   \n",
      "min           1.000000     0.000000     0.000000              1.000000   \n",
      "25%         500.750000     1.000000     1.000000           1133.000000   \n",
      "50%        1000.500000     1.000000     1.000000           2280.000000   \n",
      "75%        1500.250000     1.000000     2.000000           3139.250000   \n",
      "max        2000.000000     1.000000    15.000000           4188.000000   \n",
      "\n",
      "          WebOrder   GenderMale  Address_is_res    Spending  \n",
      "count  2000.000000  2000.000000     2000.000000  2000.00000  \n",
      "mean      0.426000     0.524500        0.221000   102.62500  \n",
      "std       0.494617     0.499524        0.415024   186.78261  \n",
      "min       0.000000     0.000000        0.000000     0.00000  \n",
      "25%       0.000000     0.000000        0.000000     0.00000  \n",
      "50%       0.000000     1.000000        0.000000     2.00000  \n",
      "75%       1.000000     1.000000        0.000000   153.00000  \n",
      "max       1.000000     1.000000        1.000000  1500.00000  \n"
     ]
    }
   ],
   "source": [
    "#숫자형 데이터의 기술 통계 정보를 요약\n",
    "print(soft_df.describe())"
   ]
  },
  {
   "cell_type": "markdown",
   "id": "3aa63e45-4780-4658-a40c-20f6f9f88226",
   "metadata": {},
   "source": [
    "# a. 범주별 소비금액의 평균과 표준편차"
   ]
  },
  {
   "cell_type": "markdown",
   "id": "1df6488d",
   "metadata": {},
   "source": [
    "### 미국주소(US)와 소비금액(Spending)의 평균과 표준편차"
   ]
  },
  {
   "cell_type": "markdown",
   "id": "2882d85b",
   "metadata": {},
   "source": [
    "# 평균(mean)과 표준편차(standard deviation)는 통계학에서 자주 사용되는 개념\n",
    "1. 평균 : 데이터의 대푯값을 나타내며, 데이터의 분포를 대략적으로 파악가능.\n",
    "대부분 데이터가 정규분포(normal distribution)를 따르기 때문에 평균은 분포의 중심을 나타냄\n",
    "\n",
    "2. 표준편차 : 데이터의 분산을 나타내며, 데이터가 평균값을 중심으로 얼마나 퍼져있는지를 나타냄. \n",
    "표준편차가 작을수록 데이터가 평균값에 모여있는 경향이 있으며, 크면 데이터가 흩어지는 경향이 존재.\n",
    "\n",
    "3. 구하는 이유\n",
    " a) 데이터의 대푯값 파악: 평균은 데이터의 대푯값을 나타내므로, 데이터의 특징을 대략적으로 파악\n",
    "    (ex) 어떤 반의 평균 점수가 다른 반의 평균 점수보다 높다면, 해당 반의 학생들이 더 잘 공부했을 가능성이 존재\n",
    "\n",
    " b) 이상치(outlier) 탐지: 이상치란 대부분의 데이터와 동떨어진 값으로, \n",
    "    이상치가 포함되어 있으면 평균과 표준편차가 왜곡될 수 있음. \n",
    "    이상치를 찾아서 제거하면 정확한 평균과 표준편차를 구할 수 있음.\n",
    "\n",
    " c) 통계적 분석: 평균과 표준편차는 다양한 통계적 분석에 사용됩니다. \n",
    "    (ex) t-test, ANOVA 등의 검정에서는 평균과 표준편차를 이용하여 두 그룹간의 차이가 통계적으로 유의한지를 판단"
   ]
  },
  {
   "cell_type": "code",
   "execution_count": 487,
   "id": "38eaf651-68ed-4d20-8345-f2af1d9500bc",
   "metadata": {},
   "outputs": [
    {
     "name": "stdout",
     "output_type": "stream",
     "text": [
      "      Spending            \n",
      "          mean         std\n",
      "US                        \n",
      "0   101.216524  174.844401\n",
      "1   102.924803  189.275664\n"
     ]
    }
   ],
   "source": [
    "gor_df = soft_df.groupby('US').agg({'Spending':['mean','std']})\n",
    "print(gor_df)"
   ]
  },
  {
   "cell_type": "code",
   "execution_count": 488,
   "id": "513877d1-7d03-4620-8429-209a33259bcd",
   "metadata": {},
   "outputs": [],
   "source": [
    "#Freq 출력\n",
    "#print(soft_df['Freq'])"
   ]
  },
  {
   "cell_type": "code",
   "execution_count": 489,
   "id": "46aa0e7a-4aa2-4ed7-a900-dd2439fe3d44",
   "metadata": {},
   "outputs": [],
   "source": [
    "#dum = pd.get_dummies(soft_df['Freq'])\n",
    "#print(dum)"
   ]
  },
  {
   "cell_type": "markdown",
   "id": "2c70bc2a",
   "metadata": {},
   "source": [
    "### 거래 건(Freq)와 소비금액(Spending)의 평균과 표준편차"
   ]
  },
  {
   "cell_type": "code",
   "execution_count": 490,
   "id": "3bbafae8-ce88-4d6a-9b6e-54f9b0fcad84",
   "metadata": {},
   "outputs": [
    {
     "name": "stdout",
     "output_type": "stream",
     "text": [
      "             mean         std\n",
      "Freq                         \n",
      "0        0.000000    0.000000\n",
      "1       66.322476  104.424412\n",
      "2      123.479714  151.509696\n",
      "3      234.993243  226.259754\n",
      "4      306.061224  165.153642\n",
      "5      459.862069  270.661719\n",
      "6      556.750000  344.195009\n",
      "7      642.125000  520.126478\n",
      "8      933.500000  324.925120\n",
      "9      870.500000  433.828307\n",
      "10    1199.000000   21.213203\n",
      "11    1334.000000  151.320851\n",
      "12    1320.500000  177.483802\n",
      "13    1443.000000         NaN\n",
      "15    1133.000000         NaN\n"
     ]
    }
   ],
   "source": [
    "gor_df = soft_df.groupby(['Freq'])['Spending'].agg(['mean','std'])\n",
    "print(gor_df)"
   ]
  },
  {
   "cell_type": "markdown",
   "id": "e3a331f2",
   "metadata": {},
   "source": [
    "### 최근갱신일(last_update_days_ago)와 소비금액(Spending)의 평균과 표준편차"
   ]
  },
  {
   "cell_type": "code",
   "execution_count": 491,
   "id": "1e459876-c2eb-41d5-b4f9-9b36924ec3f7",
   "metadata": {
    "scrolled": true
   },
   "outputs": [
    {
     "name": "stdout",
     "output_type": "stream",
     "text": [
      "                            mean         std\n",
      "last_update_days_ago                        \n",
      "1                     109.000000         NaN\n",
      "7                     129.000000         NaN\n",
      "9                     196.000000         NaN\n",
      "14                    303.000000         NaN\n",
      "15                     71.000000  100.409163\n",
      "...                          ...         ...\n",
      "4065                   64.750000   58.987993\n",
      "4096                   75.666667   93.681731\n",
      "4127                   17.500000   24.748737\n",
      "4157                   75.666667   95.516840\n",
      "4188                   88.000000   76.374079\n",
      "\n",
      "[940 rows x 2 columns]\n"
     ]
    }
   ],
   "source": [
    "gor_df = soft_df.groupby(['last_update_days_ago'])['Spending'].agg(['mean','std'])\n",
    "print(gor_df)"
   ]
  },
  {
   "cell_type": "markdown",
   "id": "eaf63895",
   "metadata": {},
   "source": [
    "### 웹 주문여부(Web_order)와 소비금액(Spending)의 평균과 표준편차"
   ]
  },
  {
   "cell_type": "code",
   "execution_count": 492,
   "id": "eea4b4c7-b8fb-4699-a361-6933bfddf27d",
   "metadata": {},
   "outputs": [
    {
     "name": "stdout",
     "output_type": "stream",
     "text": [
      "                mean         std\n",
      "WebOrder                        \n",
      "0          82.902439  173.417088\n",
      "1         129.199531  200.463840\n"
     ]
    }
   ],
   "source": [
    "gor_df = soft_df.groupby(['WebOrder'])['Spending'].agg(['mean','std'])\n",
    "print(gor_df)"
   ]
  },
  {
   "cell_type": "markdown",
   "id": "0a317fe9",
   "metadata": {},
   "source": [
    "### 성별(GenderMale)와 소비금액(Spending)의 평균과 표준편차"
   ]
  },
  {
   "cell_type": "code",
   "execution_count": 493,
   "id": "1987c287-9207-4c8f-92b6-0a403a2695de",
   "metadata": {},
   "outputs": [
    {
     "name": "stdout",
     "output_type": "stream",
     "text": [
      "                  mean        std\n",
      "GenderMale                       \n",
      "0           107.339642  190.83233\n",
      "1            98.350810  183.02006\n"
     ]
    }
   ],
   "source": [
    "gor_df = soft_df.groupby(['GenderMale'])['Spending'].agg(['mean','std'])\n",
    "print(gor_df)"
   ]
  },
  {
   "cell_type": "markdown",
   "id": "8ef052ac",
   "metadata": {},
   "source": [
    "### 주소(Address_is_res)와 소비금액(Spending)의 평균과 표준편차"
   ]
  },
  {
   "cell_type": "code",
   "execution_count": 494,
   "id": "995c2aeb-3b2c-403c-9cf3-6caf3b037423",
   "metadata": {
    "tags": []
   },
   "outputs": [
    {
     "name": "stdout",
     "output_type": "stream",
     "text": [
      "                      mean         std\n",
      "Address_is_res                        \n",
      "0               105.306162  199.521159\n",
      "1                93.174208  132.204281\n"
     ]
    }
   ],
   "source": [
    "gor_df = soft_df.groupby(['Address_is_res'])['Spending'].agg(['mean','std'])\n",
    "print(gor_df)"
   ]
  },
  {
   "cell_type": "markdown",
   "id": "e21c0d66-11d8-4da8-ade1-68fb7a904a93",
   "metadata": {},
   "source": [
    "# B. 연속형 변수들에 대한 산점도(2개)작성하여 소비금액과의 관계 탐색"
   ]
  },
  {
   "cell_type": "code",
   "execution_count": 495,
   "id": "bd1b6c40-c6bd-44e3-b1c7-b19cda6e98c4",
   "metadata": {},
   "outputs": [
    {
     "data": {
      "image/png": "[encoded data removed]",
      "text/plain": [
       "<Figure size 1500x1000 with 2 Axes>"
      ]
     },
     "metadata": {},
     "output_type": "display_data"
    }
   ],
   "source": [
    "fig, ax = plt.subplots(1, 2, figsize = (15, 10))\n",
    "ax[0].scatter(soft_df['Freq'],soft_df['Spending'],label = 'Freq vs. Specnding')\n",
    "ax[0].set_xlabel('Freq'), ax[0].set_ylabel('Spending')\n",
    "ax[0].legend()  #범례 표시\n",
    "ax[0].grid(True)\n",
    "ax[1].scatter(soft_df['last_update_days_ago'],soft_df['Spending'],label = 'last_update_days_ago vs. Spending')\n",
    "ax[1].set_xlabel('Days'), ax[0].set_ylabel('Spending')\n",
    "ax[1].legend()  # 범례표시 및 (loc='left') 위치 표시 \n",
    "ax[1].grid(True)\n",
    "plt.show()"
   ]
  },
  {
   "cell_type": "markdown",
   "id": "7039e55d",
   "metadata": {},
   "source": [
    "# c. 예측모델 구현, 회귀식, 성능평가"
   ]
  },
  {
   "cell_type": "markdown",
   "id": "88460dc5-3b07-478c-a2e4-f80abc8d1a73",
   "metadata": {},
   "source": [
    "  \n",
    "  \n",
    "  ## 모델 생성\n",
    "predictiors : 독립변수로 사용할 변수 선택  \n",
    "outcome : 종속변수로 사용할 변수 선택"
   ]
  },
  {
   "cell_type": "code",
   "execution_count": 496,
   "id": "45663f31-4148-41b8-bacb-ce61bd2b8880",
   "metadata": {
    "tags": []
   },
   "outputs": [
    {
     "name": "stdout",
     "output_type": "stream",
     "text": [
      "[학습데이터 & 검증데이터 분할 확인]\n",
      "1) 원본 데이터셋의 shape   :  (2000, 6)\n",
      "2) 레이블 데이터셋의 shape :  (2000,)\n",
      "3) 학습셋의 shape        :  (1400, 6)\n",
      "4) 학습셋 label의 shape  :  (1400,)\n",
      "5) 검증셋의 shape        :  (600, 6)\n",
      "6) 검증셋 label의 shape  :  (600,)\n"
     ]
    }
   ],
   "source": [
    "predictors = ['US', 'Freq', 'last_update_days_ago', 'WebOrder', 'GenderMale', 'Address_is_res']   #독립변수\n",
    "outcome = 'Spending'    # 종속변수\n",
    "\n",
    "# partition data \n",
    "X = soft_df[predictors]  #범주형 변수를 더미변수로 변환\n",
    "y = soft_df[outcome]\n",
    "train_X, valid_X, train_y, valid_y = train_test_split(X, y, test_size=0.3, random_state=1) # 학습데이터와 검증데이터(7:3)로 분할\n",
    "\n",
    "# 데이터 확인\n",
    "print('[학습데이터 & 검증데이터 분할 확인]')\n",
    "print('1) 원본 데이터셋의 shape   : ',X.shape)\n",
    "print('2) 레이블 데이터셋의 shape : ',y.shape)\n",
    "print('3) 학습셋의 shape        : ', train_X.shape)\n",
    "print('4) 학습셋 label의 shape  : ', train_y.shape)\n",
    "print('5) 검증셋의 shape        : ', valid_X.shape)\n",
    "print('6) 검증셋 label의 shape  : ', valid_y.shape)"
   ]
  },
  {
   "cell_type": "code",
   "execution_count": 533,
   "id": "04b40834",
   "metadata": {},
   "outputs": [
    {
     "name": "stdout",
     "output_type": "stream",
     "text": [
      "      US  Freq  last_update_days_ago  WebOrder  GenderMale  Address_is_res\n",
      "674    1     2                  1346         0           1               1\n",
      "1699   1     2                   434         1           0               0\n",
      "1282   1     1                  3717         0           1               0\n",
      "1315   1     9                  1128         1           1               0\n",
      "1210   0     0                  2765         1           0               0\n",
      "674        0\n",
      "1699     184\n",
      "1282       0\n",
      "1315    1289\n",
      "1210       0\n",
      "Name: Spending, dtype: int64\n"
     ]
    }
   ],
   "source": [
    "print(valid_X.head(5))\n",
    "print(valid_y.head(5))"
   ]
  },
  {
   "cell_type": "code",
   "execution_count": 518,
   "id": "bafbc2f6",
   "metadata": {},
   "outputs": [
    {
     "name": "stdout",
     "output_type": "stream",
     "text": [
      "1) 독립변수에 대한 coefficient\n",
      "\n",
      "              Predictor  coefficient\n",
      "0                    US    -4.314211\n",
      "1                  Freq    92.730247\n",
      "2  last_update_days_ago    -0.008894\n",
      "3              WebOrder    17.676042\n",
      "4            GenderMale    -7.665474\n",
      "5        Address_is_res   -77.655082\n",
      "\n",
      "------------------------------------------------\n",
      "\n",
      "intercept  5.192504430364906\n",
      "\n",
      "------------------------------------------------\n",
      "\n",
      "3) 모델 성능 평가\n",
      "\n",
      "Regression statistics\n",
      "\n",
      "               Mean Error (ME) : -0.0000\n",
      "Root Mean Squared Error (RMSE) : 122.1279\n",
      "     Mean Absolute Error (MAE) : 78.1567\n"
     ]
    }
   ],
   "source": [
    "soft_lm = LinearRegression()    #선형 회귀모델 클래스를 사용하여 soft_lm 객체를 생성\n",
    "soft_lm.fit(train_X, train_y)   #soft_lm 객체를 학습, 학습후 soft_lm을을 사용하여 새로운 입력 데이터에 대한 예측 수행\n",
    "\n",
    "# print coefficients\n",
    "print('1) 독립변수에 대한 coefficient\\n')\n",
    "print(pd.DataFrame({'Predictor': X.columns, 'coefficient': soft_lm.coef_}))  #pandas dataframe 형식으로 독립변수에 대한 coefficient 나타냄 \n",
    "print('\\n------------------------------------------------')\n",
    "print('\\nintercept ', soft_lm.intercept_)    # 학습된 절편출력\n",
    "print('\\n------------------------------------------------')\n",
    "print('\\n3) 모델 성능 평가')\n",
    "# print performance measures\n",
    "regressionSummary(train_y, soft_lm.predict(train_X)) #  모델의 성능평가 및 요약, Train y값과 예측된 y값을 받아 예측 성능에 대한 통계치와 정보를 출력"
   ]
  },
  {
   "cell_type": "markdown",
   "id": "5e17fa99-2f17-424f-bd52-9c35a248db7a",
   "metadata": {},
   "source": [
    "RMSE : 실제 값과 예측 값의 차이의 제곱값의 평균의 제곱근\n",
    "MAE : 예측값과 실제 값의 차이를 평균한 값"
   ]
  },
  {
   "cell_type": "code",
   "execution_count": 542,
   "id": "10ddbdde",
   "metadata": {},
   "outputs": [
    {
     "name": "stdout",
     "output_type": "stream",
     "text": [
      "[89.04660633]\n",
      "[10.95339367]\n"
     ]
    }
   ],
   "source": [
    "#예측값\n",
    "print(soft_lm.predict(valid_X.head(1)))\n",
    "#예측오차\n",
    "print(100-soft_lm.predict(valid_X.head(1)))"
   ]
  },
  {
   "cell_type": "code",
   "execution_count": 519,
   "id": "e69d4001-ae16-4a2b-9c9f-8b54d1a4fc43",
   "metadata": {},
   "outputs": [
    {
     "name": "stdout",
     "output_type": "stream",
     "text": [
      "adjusted r2 :  0.5435671038034185\n",
      "AIC :  17443.220345044443\n",
      "BIC :  17485.17416516927\n"
     ]
    }
   ],
   "source": [
    "pred_y = soft_lm.predict(train_X)   # soft_lm(학습된 선형 회귀모델)을 사용하여 입력데이타(train_X)에 대한 예측 값을 계산하여 pred_y에 저장\n",
    "\n",
    "print('adjusted r2 : ', adjusted_r2_score(train_y, pred_y, soft_lm))  # : 결과 R2 값이 높을 수록 모델의 설명력이 높단고 판단할 수 있다.\n",
    "print('AIC : ', AIC_score(train_y, pred_y, soft_lm))\n",
    "print('BIC : ', BIC_score(train_y, pred_y, soft_lm))"
   ]
  },
  {
   "cell_type": "code",
   "execution_count": 520,
   "id": "fa889924-4b75-4a78-a169-fc4b14acf75c",
   "metadata": {},
   "outputs": [
    {
     "name": "stdout",
     "output_type": "stream",
     "text": [
      "       Predicted  Actual     Residual\n",
      "674    89.046606       0   -89.046606\n",
      "1699  200.154736     184   -16.154736\n",
      "1282   52.883240       0   -52.883240\n",
      "1315  835.428399    1289   453.571601\n",
      "1210   -1.723979       0     1.723979\n",
      "1636   86.947570       0   -86.947570\n",
      "613    60.478906       0   -60.478906\n",
      "447   252.174763    1255  1002.825237\n",
      "1131   68.064332       0   -68.064332\n",
      "808    68.740293       0   -68.740293\n",
      "1496   -8.149886       0     8.149886\n",
      "1468  193.795367     411   217.204633\n",
      "1682  -15.442606       0    15.442606\n",
      "1149  -31.566486       0    31.566486\n",
      "442    63.101356       0   -63.101356\n",
      "1813    3.995809     173   169.004191\n",
      "654   -43.217918       0    43.217918\n",
      "1264  -31.238232       0    31.238232\n",
      "858    81.070908       0   -81.070908\n",
      "1482   55.133478       0   -55.133478\n",
      "\n",
      "Regression statistics\n",
      "\n",
      "               Mean Error (ME) : 8.0369\n",
      "Root Mean Squared Error (RMSE) : 147.6216\n",
      "     Mean Absolute Error (MAE) : 88.0652\n"
     ]
    }
   ],
   "source": [
    "# Use predict() to make predictions on a new set\n",
    "soft_lm_pred = soft_lm.predict(valid_X)\n",
    "\n",
    "result = pd.DataFrame({'Predicted': soft_lm_pred, 'Actual': valid_y,\n",
    "                       'Residual': valid_y - soft_lm_pred})\n",
    "print(result.head(20))\n",
    "\n",
    "# Compute common accuracy measures\n",
    "regressionSummary(valid_y, soft_lm_pred)"
   ]
  },
  {
   "cell_type": "code",
   "execution_count": 521,
   "id": "d2f8ed6e-af76-4a80-b022-913f6c7ca197",
   "metadata": {},
   "outputs": [],
   "source": [
    "# MPE, MAPE 는 왜 출력되지 않지? 이유를 모르겠다... 다른건 다나옴."
   ]
  },
  {
   "cell_type": "code",
   "execution_count": 522,
   "id": "00068641-0cf4-47da-916c-a7947141825e",
   "metadata": {},
   "outputs": [
    {
     "name": "stdout",
     "output_type": "stream",
     "text": [
      "0.0\n"
     ]
    },
    {
     "data": {
      "image/png": "[encoded data removed]",
      "text/plain": [
       "<Figure size 640x480 with 1 Axes>"
      ]
     },
     "metadata": {},
     "output_type": "display_data"
    }
   ],
   "source": [
    "soft_lm_pred = soft_lm.predict(valid_X)\n",
    "all_residuals = valid_y - soft_lm_pred\n",
    "\n",
    "# Determine the percentage of datapoints with a residual in [-1406, 1406] = approx. 75\\%  ??? data에 맞게 수정해야 하나?? 효과없음 모든 잔차표시 됨\n",
    "# print(len(all_residuals[(all_residuals > -1406) & (all_residuals < 1406)]) / len(all_residuals))\n",
    "print(len(all_residuals[(all_residuals > 500) & (all_residuals < 500)]) / len(all_residuals))\n",
    "\n",
    "ax = pd.DataFrame({'Residuals': all_residuals}).hist(bins=100)\n",
    "\n",
    "plt.tight_layout()\n",
    "plt.show()"
   ]
  },
  {
   "cell_type": "code",
   "execution_count": 523,
   "id": "975edd54-683c-47ea-90a7-347370e4e2db",
   "metadata": {},
   "outputs": [
    {
     "name": "stdout",
     "output_type": "stream",
     "text": [
      "   n     r2adj           AIC  Address_is_res  Freq  GenderMale     US  WebOrder  \\\n",
      "0  1  0.511111  17534.408102           False  True       False  False     False   \n",
      "1  2  0.539375  17452.035283            True  True       False  False     False   \n",
      "2  3  0.541731  17445.853916            True  True       False  False     False   \n",
      "3  4  0.543677  17440.893143            True  True       False  False      True   \n",
      "4  5  0.543814  17441.466934            True  True        True  False      True   \n",
      "5  6  0.543567  17443.220345            True  True        True   True      True   \n",
      "\n",
      "   last_update_days_ago  \n",
      "0                 False  \n",
      "1                 False  \n",
      "2                  True  \n",
      "3                  True  \n",
      "4                  True  \n",
      "5                  True  \n"
     ]
    }
   ],
   "source": [
    "def train_model(variables):\n",
    "    model = LinearRegression()\n",
    "    model.fit(train_X[variables], train_y)\n",
    "    return model\n",
    "\n",
    "def score_model(model, variables):\n",
    "    pred_y = model.predict(train_X[variables])\n",
    "    # we negate as score is optimized to be as low as possible\n",
    "    return -adjusted_r2_score(train_y, pred_y, model)\n",
    "\n",
    "allVariables = train_X.columns\n",
    "results = exhaustive_search(allVariables, train_model, score_model)\n",
    "\n",
    "data = []\n",
    "for result in results:\n",
    "    model = result['model']\n",
    "    variables = result['variables']\n",
    "    AIC = AIC_score(train_y, model.predict(train_X[variables]), model)\n",
    "    \n",
    "    d = {'n': result['n'], 'r2adj': -result['score'], 'AIC': AIC}\n",
    "    d.update({var: var in result['variables'] for var in allVariables})\n",
    "    data.append(d)\n",
    "pd.set_option('display.width', 100)\n",
    "print(pd.DataFrame(data, columns=('n', 'r2adj', 'AIC') + tuple(sorted(allVariables))))\n",
    "pd.reset_option('display.width')"
   ]
  },
  {
   "cell_type": "markdown",
   "id": "6b80586e-289f-4f7b-9ad9-aaee569d75be",
   "metadata": {},
   "source": [
    "## 후진제거"
   ]
  },
  {
   "cell_type": "code",
   "execution_count": 524,
   "id": "cec95e85-c269-4593-9f84-00b8d74142c2",
   "metadata": {},
   "outputs": [
    {
     "name": "stdout",
     "output_type": "stream",
     "text": [
      "Variables: US, Freq, last_update_days_ago, WebOrder, GenderMale, Address_is_res\n",
      "Start: score=17443.22\n",
      "Step: score=17441.47, remove US\n",
      "Step: score=17440.89, remove GenderMale\n",
      "Step: score=17440.89, remove None\n",
      "['Freq', 'last_update_days_ago', 'WebOrder', 'Address_is_res']\n"
     ]
    }
   ],
   "source": [
    "def train_model(variables):\n",
    "    model = LinearRegression()\n",
    "    model.fit(train_X[variables], train_y)\n",
    "    return model\n",
    "\n",
    "def score_model(model, variables):\n",
    "    return AIC_score(train_y, model.predict(train_X[variables]), model)\n",
    "\n",
    "best_model, best_variables = backward_elimination(train_X.columns, train_model, score_model, verbose=True)\n",
    "\n",
    "print(best_variables)"
   ]
  },
  {
   "cell_type": "code",
   "execution_count": 525,
   "id": "f2dc7ae1-72e4-4274-a0ef-c9cb4e1df30c",
   "metadata": {},
   "outputs": [
    {
     "name": "stdout",
     "output_type": "stream",
     "text": [
      "      US  Freq  last_update_days_ago  WebOrder  GenderMale  Address_is_res\n",
      "674    1     2                  1346         0           1               1\n",
      "1699   1     2                   434         1           0               0\n",
      "1282   1     1                  3717         0           1               0\n",
      "1315   1     9                  1128         1           1               0\n",
      "1210   0     0                  2765         1           0               0\n",
      "674        0\n",
      "1699     184\n",
      "1282       0\n",
      "1315    1289\n",
      "1210       0\n",
      "Name: Spending, dtype: int64\n"
     ]
    }
   ],
   "source": [
    "print(valid_X.head(5))\n",
    "print(valid_y.head(5))"
   ]
  },
  {
   "cell_type": "code",
   "execution_count": 537,
   "id": "3e99c6b2-dfae-4556-857f-35aa917d813a",
   "metadata": {},
   "outputs": [
    {
     "name": "stdout",
     "output_type": "stream",
     "text": [
      "\n",
      "Regression statistics\n",
      "\n",
      "               Mean Error (ME) : 8.0327\n",
      "Root Mean Squared Error (RMSE) : 147.4527\n",
      "     Mean Absolute Error (MAE) : 87.8026\n"
     ]
    }
   ],
   "source": [
    "regressionSummary(valid_y, best_model.predict(valid_X[best_variables]))"
   ]
  },
  {
   "cell_type": "code",
   "execution_count": 512,
   "id": "c6ae1955-03f3-4cba-b671-aaf00fa7c9f3",
   "metadata": {},
   "outputs": [
    {
     "data": {
      "text/plain": [
       "['Freq', 'Address_is_res', 'last_update_days_ago', 'WebOrder']"
      ]
     },
     "execution_count": 512,
     "metadata": {},
     "output_type": "execute_result"
    }
   ],
   "source": [
    "best_variables"
   ]
  },
  {
   "cell_type": "code",
   "execution_count": 506,
   "id": "a28117f8-3eac-4ec1-bf7c-48260d2566b6",
   "metadata": {},
   "outputs": [
    {
     "name": "stdout",
     "output_type": "stream",
     "text": [
      "Variables: US, Freq, last_update_days_ago, WebOrder, GenderMale, Address_is_res\n",
      "Start: score=17443.22\n",
      "Step: score=17441.47, remove US\n",
      "Step: score=17440.89, remove GenderMale\n",
      "Step: score=17440.89, remove None\n",
      "['Freq', 'last_update_days_ago', 'WebOrder', 'Address_is_res']\n"
     ]
    }
   ],
   "source": [
    "# The initial model is the constant model - this requires special handling\n",
    "# in train_model and score_model\n",
    "def train_model(variables):\n",
    "    if len(variables) == 0:\n",
    "        return None\n",
    "    model = LinearRegression()\n",
    "    model.fit(train_X[variables], train_y)\n",
    "    return model\n",
    "\n",
    "def score_model(model, variables):\n",
    "    if len(variables) == 0:\n",
    "        return AIC_score(train_y, [train_y.mean()] * len(train_y), model, df=1)\n",
    "    return AIC_score(train_y, model.predict(train_X[variables]), model)\n",
    "\n",
    "best_model, best_variables = backward_elimination(train_X.columns, train_model, score_model, verbose=True)\n",
    "\n",
    "print(best_variables)"
   ]
  },
  {
   "cell_type": "code",
   "execution_count": 507,
   "id": "11196fb3-882e-4589-b70f-05e18b06e836",
   "metadata": {},
   "outputs": [
    {
     "name": "stdout",
     "output_type": "stream",
     "text": [
      "Variables: US, Freq, last_update_days_ago, WebOrder, GenderMale, Address_is_res\n",
      "Start: score=18535.28, constant\n",
      "Step: score=17534.41, add Freq\n",
      "Step: score=17452.04, add Address_is_res\n",
      "Step: score=17445.85, add last_update_days_ago\n",
      "Step: score=17440.89, add WebOrder\n",
      "Step: score=17440.89, unchanged None\n",
      "['Freq', 'Address_is_res', 'last_update_days_ago', 'WebOrder']\n"
     ]
    }
   ],
   "source": [
    "best_model, best_variables = stepwise_selection(train_X.columns, train_model, score_model, verbose=True)\n",
    "\n",
    "print(best_variables)"
   ]
  },
  {
   "cell_type": "code",
   "execution_count": null,
   "id": "22e571ad-4fa5-4c01-bdf3-a3e21a1cf2d8",
   "metadata": {},
   "outputs": [],
   "source": []
  },
  {
   "cell_type": "code",
   "execution_count": 508,
   "id": "b61df40f-c4b3-42c4-ab08-6135a5407537",
   "metadata": {},
   "outputs": [
    {
     "name": "stdout",
     "output_type": "stream",
     "text": [
      "\n",
      "0) Linear\n",
      "-------------------------------------------\n",
      "\n",
      "Regression statistics\n",
      "\n",
      "               Mean Error (ME) : 8.0327\n",
      "Root Mean Squared Error (RMSE) : 147.4527\n",
      "     Mean Absolute Error (MAE) : 87.8026\n",
      "\n",
      "1) Lasso\n",
      "-------------------------------------------\n",
      "\n",
      "Regression statistics\n",
      "\n",
      "               Mean Error (ME) : 8.2614\n",
      "Root Mean Squared Error (RMSE) : 147.7349\n",
      "     Mean Absolute Error (MAE) : 87.8448\n",
      "\n",
      "2) Ridge\n",
      "-------------------------------------------\n",
      "\n",
      "Regression statistics\n",
      "\n",
      "               Mean Error (ME) : 8.0401\n",
      "Root Mean Squared Error (RMSE) : 147.6328\n",
      "     Mean Absolute Error (MAE) : 88.0621\n"
     ]
    }
   ],
   "source": [
    "print('\\n0) Linear')\n",
    "print('-------------------------------------------')\n",
    "regressionSummary(valid_y, best_model.predict(valid_X[best_variables]))\n",
    "\n",
    "print('\\n1) Lasso')\n",
    "print('-------------------------------------------')\n",
    "lasso = Lasso( alpha=1)\n",
    "lasso.fit(train_X, train_y)\n",
    "regressionSummary(valid_y, lasso.predict(valid_X))\n",
    "\n",
    "# print('\\n2) LassoCV')\n",
    "# print('-------------------------------------------')\n",
    "# lasso_cv = LassoCV( cv=5)\n",
    "# lasso_cv.fit(train_X, train_y)\n",
    "# regressionSummary(valid_y, lasso_cv.predict(valid_X))\n",
    "\n",
    "print('\\n2) Ridge')\n",
    "print('-------------------------------------------')\n",
    "ridge = Ridge(alpha=1)\n",
    "ridge.fit(train_X, train_y)\n",
    "regressionSummary(valid_y, ridge.predict(valid_X))\n",
    "\n",
    "# print('\\n4) BayesianRidge')\n",
    "# print('-------------------------------------------')\n",
    "# bayesianRidge = BayesianRidge()\n",
    "# bayesianRidge.fit(train_X, train_y)\n",
    "# regressionSummary(valid_y, bayesianRidge.predict(valid_X))"
   ]
  },
  {
   "cell_type": "code",
   "execution_count": 509,
   "id": "d6acef97-8ebf-415d-92a8-d98dfd1927d8",
   "metadata": {},
   "outputs": [
    {
     "name": "stdout",
     "output_type": "stream",
     "text": [
      "                            OLS Regression Results                            \n",
      "==============================================================================\n",
      "Dep. Variable:               Spending   R-squared:                       0.546\n",
      "Model:                            OLS   Adj. R-squared:                  0.544\n",
      "Method:                 Least Squares   F-statistic:                     278.7\n",
      "Date:                Sun, 16 Apr 2023   Prob (F-statistic):          2.08e-234\n",
      "Time:                        20:21:28   Log-Likelihood:                -8713.6\n",
      "No. Observations:                1400   AIC:                         1.744e+04\n",
      "Df Residuals:                    1393   BIC:                         1.748e+04\n",
      "Df Model:                           6                                         \n",
      "Covariance Type:            nonrobust                                         \n",
      "========================================================================================\n",
      "                           coef    std err          t      P>|t|      [0.025      0.975]\n",
      "----------------------------------------------------------------------------------------\n",
      "Intercept                5.1925     12.186      0.426      0.670     -18.712      29.097\n",
      "US                      -4.3142      8.709     -0.495      0.620     -21.399      12.771\n",
      "Freq                    92.7302      2.502     37.059      0.000      87.822      97.639\n",
      "last_update_days_ago    -0.0089      0.003     -2.900      0.004      -0.015      -0.003\n",
      "WebOrder                17.6760      6.715      2.633      0.009       4.504      30.848\n",
      "GenderMale              -7.6655      6.565     -1.168      0.243     -20.544       5.213\n",
      "Address_is_res         -77.6551      8.197     -9.473      0.000     -93.735     -61.575\n",
      "==============================================================================\n",
      "Omnibus:                     1078.375   Durbin-Watson:                   1.995\n",
      "Prob(Omnibus):                  0.000   Jarque-Bera (JB):            35668.406\n",
      "Skew:                           3.261   Prob(JB):                         0.00\n",
      "Kurtosis:                      26.852   Cond. No.                     1.02e+04\n",
      "==============================================================================\n",
      "\n",
      "Notes:\n",
      "[1] Standard Errors assume that the covariance matrix of the errors is correctly specified.\n",
      "[2] The condition number is large, 1.02e+04. This might indicate that there are\n",
      "strong multicollinearity or other numerical problems.\n"
     ]
    }
   ],
   "source": [
    "# run a linear regression of Price on the remaining 11 predictors in the training set\n",
    "train_df = train_X.join(train_y)\n",
    "\n",
    "predictors = train_X.columns\n",
    "formula = 'Spending ~ ' + ' + '.join(predictors)\n",
    "\n",
    "soft_lm = sm.ols(formula=formula, data=train_df).fit()\n",
    "print(soft_lm.summary())"
   ]
  }
 ],
 "metadata": {
  "kernelspec": {
   "display_name": "Python 3 (ipykernel)",
   "language": "python",
   "name": "python3"
  },
  "language_info": {
   "codemirror_mode": {
    "name": "ipython",
    "version": 3
   },
   "file_extension": ".py",
   "mimetype": "text/x-python",
   "name": "python",
   "nbconvert_exporter": "python",
   "pygments_lexer": "ipython3",
   "version": "3.9.16"
  }
 },
 "nbformat": 4,
 "nbformat_minor": 5
}
