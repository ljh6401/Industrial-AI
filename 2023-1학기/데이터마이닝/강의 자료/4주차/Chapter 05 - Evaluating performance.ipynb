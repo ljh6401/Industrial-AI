{
 "cells": [
  {
   "cell_type": "markdown",
   "metadata": {
    "id": "tP4tuz4R37MQ"
   },
   "source": [
    "# Chapter 5: Evaluating Predictive Performance\n",
    "\n",
    "> (c) 2019 Galit Shmueli, Peter C. Bruce, Peter Gedeck \n",
    ">\n",
    "> Code included in\n",
    ">\n",
    "> _Data Mining for Business Analytics: Concepts, Techniques, and Applications in Python_ (First Edition) \n",
    "> Galit Shmueli, Peter C. Bruce, Peter Gedeck, and Nitin R. Patel. 2019.\n",
    "\n",
    "\n",
    "## Import required packages"
   ]
  },
  {
   "cell_type": "code",
   "execution_count": 1,
   "metadata": {
    "execution": {
     "iopub.execute_input": "2021-05-27T20:02:48.091117Z",
     "iopub.status.busy": "2021-05-27T20:02:48.090628Z",
     "iopub.status.idle": "2021-05-27T20:02:48.909020Z",
     "shell.execute_reply": "2021-05-27T20:02:48.909419Z"
    },
    "id": "E6Jhk6nh37Ma",
    "outputId": "a0110002-47ba-4fdc-da9c-968055ea50f2"
   },
   "outputs": [],
   "source": [
    "import math\n",
    "from pathlib import Path\n",
    "import pandas as pd\n",
    "from sklearn.model_selection import train_test_split\n",
    "from sklearn.linear_model import LinearRegression\n",
    "from sklearn.metrics import accuracy_score, roc_curve, auc\n",
    "import matplotlib.pylab as plt\n",
    "\n",
    "import dmba\n",
    "from dmba import regressionSummary, classificationSummary, liftChart, gainsChart\n",
    "\n",
    "%matplotlib inline\n"
   ]
  },
  {
   "cell_type": "markdown",
   "metadata": {
    "id": "-stOr68B37Ma"
   },
   "source": [
    "## Table 5.1\n",
    "Load file and generate training and validation sets. "
   ]
  },
  {
   "cell_type": "code",
   "execution_count": 2,
   "metadata": {
    "execution": {
     "iopub.execute_input": "2021-05-27T20:02:48.914388Z",
     "iopub.status.busy": "2021-05-27T20:02:48.913724Z",
     "iopub.status.idle": "2021-05-27T20:02:48.942409Z",
     "shell.execute_reply": "2021-05-27T20:02:48.942038Z"
    },
    "id": "TpVM8KO937Mb",
    "outputId": "1d9865d1-1652-4a39-9403-916cfd540020"
   },
   "outputs": [
    {
     "name": "stdout",
     "output_type": "stream",
     "text": [
      "\n",
      "Regression statistics\n",
      "\n",
      "                      Mean Error (ME) : -0.0000\n",
      "       Root Mean Squared Error (RMSE) : 1121.0606\n",
      "            Mean Absolute Error (MAE) : 811.6770\n",
      "          Mean Percentage Error (MPE) : -0.8630\n",
      "Mean Absolute Percentage Error (MAPE) : 8.0054\n",
      "\n",
      "Regression statistics\n",
      "\n",
      "                      Mean Error (ME) : 97.1891\n",
      "       Root Mean Squared Error (RMSE) : 1382.0352\n",
      "            Mean Absolute Error (MAE) : 880.1396\n",
      "          Mean Percentage Error (MPE) : 0.0138\n",
      "Mean Absolute Percentage Error (MAPE) : 8.8744\n"
     ]
    }
   ],
   "source": [
    "# Load data frame and select columns for regression analysis\n",
    "car_df = dmba.load_data('ToyotaCorolla.csv')\n",
    "\n",
    "# create a list of predictor variables by remvoing output variables and text columns\n",
    "excludeColumns = ('Price', 'Id', 'Model', 'Fuel_Type', 'Color')\n",
    "predictors = [s for s in car_df.columns if s not in excludeColumns]\n",
    "outcome = 'Price'\n",
    "\n",
    "# partition data\n",
    "X = car_df[predictors]\n",
    "y = car_df[outcome]\n",
    "train_X, valid_X, train_y, valid_y = train_test_split(X, y, test_size=0.4, random_state=1)\n",
    "\n",
    "# train linear regression model\n",
    "reg = LinearRegression()\n",
    "reg.fit(train_X, train_y)\n",
    "\n",
    "# evaluate performance\n",
    "# training\n",
    "regressionSummary(train_y, reg.predict(train_X))\n",
    "# validation\n",
    "regressionSummary(valid_y, reg.predict(valid_X))"
   ]
  },
  {
   "cell_type": "markdown",
   "metadata": {
    "id": "Urjpb7qQ37Mb"
   },
   "source": [
    "## Figure 5.1"
   ]
  },
  {
   "cell_type": "code",
   "execution_count": null,
   "metadata": {
    "execution": {
     "iopub.execute_input": "2021-05-27T20:02:48.952188Z",
     "iopub.status.busy": "2021-05-27T20:02:48.950301Z",
     "iopub.status.idle": "2021-05-27T20:02:49.966269Z",
     "shell.execute_reply": "2021-05-27T20:02:49.965884Z"
    },
    "id": "5l1QASBm37Mb",
    "outputId": "44c8144e-a655-4f61-c6ba-e4af3c8273bf"
   },
   "outputs": [
    {
     "name": "stderr",
     "output_type": "stream",
     "text": [
      "C:\\Users\\leeky\\AppData\\Local\\Temp\\ipykernel_15484\\3642907633.py:9: FutureWarning: The frame.append method is deprecated and will be removed from pandas in a future version. Use pandas.concat instead.\n",
      "  boxdata_df = pred_error_train.append(pred_error_valid, ignore_index=True)\n"
     ]
    }
   ],
   "source": [
    "pred_error_train = pd.DataFrame({\n",
    "    'residual': train_y - reg.predict(train_X), \n",
    "    'data set': 'training'\n",
    "})\n",
    "pred_error_valid = pd.DataFrame({\n",
    "    'residual': valid_y - reg.predict(valid_X), \n",
    "    'data set': 'validation'\n",
    "})\n",
    "boxdata_df = pred_error_train.append(pred_error_valid, ignore_index=True)\n",
    "\n",
    "fig, axes = plt.subplots(nrows=1, ncols=3)\n",
    "fig.set_size_inches(9, 4)\n",
    "common = {'bins': 100, 'range': [-6500, 6500]}\n",
    "pred_error_train.hist(ax=axes[0], **common)\n",
    "pred_error_valid.hist(ax=axes[1], **common)\n",
    "boxdata_df.boxplot(ax=axes[2], by='data set')\n",
    "\n",
    "axes[0].set_title('training')\n",
    "axes[1].set_title('validation')\n",
    "axes[2].set_title(' ')\n",
    "axes[2].set_ylim(-6500, 6500)\n",
    "plt.suptitle('Prediction errors') \n",
    "plt.subplots_adjust(bottom=0.15, top=0.85, wspace=0.35)\n",
    "\n",
    "plt.show()"
   ]
  },
  {
   "cell_type": "markdown",
   "metadata": {
    "id": "Dfnow9DJ37Mb"
   },
   "source": [
    "## Figure 5.2"
   ]
  },
  {
   "cell_type": "code",
   "execution_count": null,
   "metadata": {
    "execution": {
     "iopub.execute_input": "2021-05-27T20:02:49.974240Z",
     "iopub.status.busy": "2021-05-27T20:02:49.973773Z",
     "iopub.status.idle": "2021-05-27T20:02:50.394602Z",
     "shell.execute_reply": "2021-05-27T20:02:50.395128Z"
    },
    "id": "3B3iz18k37Mb",
    "outputId": "a6a5a28c-d695-4b3e-a8f7-c94f6b8b4b79"
   },
   "outputs": [
    {
     "data": {
      "image/png": "[encoded data removed]",
      "text/plain": [
       "<Figure size 432x288 with 2 Axes>"
      ]
     },
     "metadata": {
      "needs_background": "light"
     },
     "output_type": "display_data"
    },
    {
     "name": "stdout",
     "output_type": "stream",
     "text": [
      "Lift based on meanResponse 1.7618191980414206\n",
      "Expected cumulative price for 10% random sales 613291.8\n",
      "Cumulative price for top 10% sales 1089905\n",
      "Lift calculated based on gains chart 1.777139364980911\n"
     ]
    }
   ],
   "source": [
    "# sort the actual values in descending order of the prediction\n",
    "df = pd.DataFrame({\n",
    "    'predicted': reg.predict(valid_X),\n",
    "    'actual': valid_y, \n",
    "})\n",
    "df = df.sort_values(by=['predicted'], ascending=False)\n",
    "\n",
    "fig, axes = plt.subplots(nrows=1, ncols=2)\n",
    "ax = gainsChart(df['actual'], ax=axes[0])\n",
    "ax.set_ylabel('Cumulative Price')\n",
    "ax.set_title('Cumulative Gains Chart')\n",
    "\n",
    "ax = liftChart(df['actual'], ax=axes[1], labelBars=False)\n",
    "ax.set_ylabel('Lift')\n",
    "\n",
    "plt.tight_layout()\n",
    "plt.show()\n",
    "\n",
    "\n",
    "# group the sorted predictions into 10 roughly equal groups and calculate the mean\n",
    "sorted_act_v = df['actual']\n",
    "groups = [int(10 * i / len(sorted_act_v)) for i in range(len(sorted_act_v))]\n",
    "meanPercentile = sorted_act_v.groupby(groups).mean()\n",
    "meanResponse = meanPercentile / sorted_act_v.mean()\n",
    "meanResponse.index = (meanResponse.index + 1) * 10\n",
    "print('Lift based on meanResponse', meanResponse[10])\n",
    "random10 = sorted_act_v.cumsum().iloc[-1] / 10  # expected cumulative price without lift for 10% sales\n",
    "cumPred10 = sorted_act_v.cumsum().iloc[57]  # cumulative price based on model for top 10%\n",
    "print('Expected cumulative price for 10% random sales', random10)\n",
    "print('Cumulative price for top 10% sales', cumPred10)\n",
    "print('Lift calculated based on gains chart', cumPred10 / random10)"
   ]
  },
  {
   "cell_type": "markdown",
   "metadata": {
    "id": "GBFf_C6b37Mc"
   },
   "source": [
    "## Table 5.5"
   ]
  },
  {
   "cell_type": "code",
   "execution_count": null,
   "metadata": {
    "execution": {
     "iopub.execute_input": "2021-05-27T20:02:50.398452Z",
     "iopub.status.busy": "2021-05-27T20:02:50.398024Z",
     "iopub.status.idle": "2021-05-27T20:02:50.403280Z",
     "shell.execute_reply": "2021-05-27T20:02:50.402919Z"
    },
    "id": "hSQC2h3y37Mc"
   },
   "outputs": [],
   "source": [
    "owner_df = dmba.load_data('ownerExample.csv')\n",
    "owner_df.head()\n",
    "class_names = ['nonowner', 'owner']"
   ]
  },
  {
   "cell_type": "code",
   "execution_count": null,
   "metadata": {
    "execution": {
     "iopub.execute_input": "2021-05-27T20:02:50.408865Z",
     "iopub.status.busy": "2021-05-27T20:02:50.408379Z",
     "iopub.status.idle": "2021-05-27T20:02:50.411247Z",
     "shell.execute_reply": "2021-05-27T20:02:50.410796Z"
    },
    "id": "yepHXW_P37Mc",
    "outputId": "3d61dcb7-f559-4dd5-9836-97204bb9013d",
    "scrolled": true
   },
   "outputs": [
    {
     "name": "stdout",
     "output_type": "stream",
     "text": [
      "Confusion Matrix (Accuracy 0.8750)\n",
      "\n",
      "         Prediction\n",
      "  Actual nonowner    owner\n",
      "nonowner       10        2\n",
      "   owner        1       11\n"
     ]
    }
   ],
   "source": [
    "predicted = ['owner' if p > 0.5 else 'nonowner' for p in owner_df.Probability]\n",
    "classificationSummary(owner_df.Class, predicted, class_names=class_names)"
   ]
  },
  {
   "cell_type": "code",
   "execution_count": null,
   "metadata": {
    "execution": {
     "iopub.execute_input": "2021-05-27T20:02:50.415968Z",
     "iopub.status.busy": "2021-05-27T20:02:50.414768Z",
     "iopub.status.idle": "2021-05-27T20:02:50.418821Z",
     "shell.execute_reply": "2021-05-27T20:02:50.418413Z"
    },
    "id": "6nc_gB2g37Md",
    "outputId": "842dcc74-fb51-4784-a92f-d3ec86bf00b9"
   },
   "outputs": [
    {
     "name": "stdout",
     "output_type": "stream",
     "text": [
      "Confusion Matrix (Accuracy 0.7917)\n",
      "\n",
      "         Prediction\n",
      "  Actual nonowner    owner\n",
      "nonowner        8        4\n",
      "   owner        1       11\n"
     ]
    }
   ],
   "source": [
    "predicted = ['owner' if p > 0.25 else 'nonowner' for p in owner_df.Probability]\n",
    "classificationSummary(owner_df.Class, predicted, class_names=class_names)"
   ]
  },
  {
   "cell_type": "code",
   "execution_count": null,
   "metadata": {
    "execution": {
     "iopub.execute_input": "2021-05-27T20:02:50.423459Z",
     "iopub.status.busy": "2021-05-27T20:02:50.422324Z",
     "iopub.status.idle": "2021-05-27T20:02:50.426891Z",
     "shell.execute_reply": "2021-05-27T20:02:50.426452Z"
    },
    "id": "j3Hkdedl37Md",
    "outputId": "d256b5ce-f08a-43de-879a-0a2482e534f8"
   },
   "outputs": [
    {
     "name": "stdout",
     "output_type": "stream",
     "text": [
      "Confusion Matrix (Accuracy 0.7500)\n",
      "\n",
      "         Prediction\n",
      "  Actual nonowner    owner\n",
      "nonowner       11        1\n",
      "   owner        5        7\n"
     ]
    }
   ],
   "source": [
    "predicted = ['owner' if p > 0.75 else 'nonowner' for p in owner_df.Probability]\n",
    "classificationSummary(owner_df.Class, predicted, class_names=class_names)"
   ]
  },
  {
   "cell_type": "markdown",
   "metadata": {
    "id": "L0FbYDCa37Md"
   },
   "source": [
    "## Figure 5.4\n",
    "Calculate the accuracy at different cutoff values and create a graph."
   ]
  },
  {
   "cell_type": "code",
   "execution_count": null,
   "metadata": {
    "execution": {
     "iopub.execute_input": "2021-05-27T20:02:50.431834Z",
     "iopub.status.busy": "2021-05-27T20:02:50.431340Z",
     "iopub.status.idle": "2021-05-27T20:02:50.612137Z",
     "shell.execute_reply": "2021-05-27T20:02:50.611768Z"
    },
    "id": "n9DG9kEQ37Md",
    "outputId": "73a20fa2-3b70-4890-be23-d2fee518e303"
   },
   "outputs": [
    {
     "data": {
      "image/png": "[encoded data removed]",
      "text/plain": [
       "<Figure size 432x288 with 1 Axes>"
      ]
     },
     "metadata": {
      "needs_background": "light"
     },
     "output_type": "display_data"
    }
   ],
   "source": [
    "df = dmba.load_data('liftExample.csv')\n",
    "\n",
    "cutoffs = [i * 0.1 for i in range(0, 11)]\n",
    "accT = []\n",
    "for cutoff in cutoffs:\n",
    "    predicted = [1 if p > cutoff else 0 for p in df.prob]\n",
    "    accT.append(accuracy_score(df.actual, predicted))\n",
    "\n",
    "line_accuracy = plt.plot(cutoffs, accT, '-', label='Accuracy')[0]\n",
    "line_error = plt.plot(cutoffs, [1 - acc for acc in accT], '--', label='Overall error')[0]\n",
    "plt.ylim([0,1])\n",
    "plt.xlabel('Cutoff Value')\n",
    "plt.legend(handles=[line_accuracy, line_error])\n",
    "\n",
    "plt.show()"
   ]
  },
  {
   "cell_type": "markdown",
   "metadata": {
    "id": "bEY8nVCc37Me"
   },
   "source": [
    "## Figure 5.5"
   ]
  },
  {
   "cell_type": "code",
   "execution_count": null,
   "metadata": {
    "execution": {
     "iopub.execute_input": "2021-05-27T20:02:50.617633Z",
     "iopub.status.busy": "2021-05-27T20:02:50.616913Z",
     "iopub.status.idle": "2021-05-27T20:02:50.619466Z",
     "shell.execute_reply": "2021-05-27T20:02:50.618999Z"
    },
    "id": "Mfzw_XyD37Me"
   },
   "outputs": [],
   "source": [
    "fpr, tpr, _ = roc_curve(df.actual, df.prob)\n",
    "roc_auc = auc(fpr, tpr)"
   ]
  },
  {
   "cell_type": "code",
   "execution_count": null,
   "metadata": {
    "execution": {
     "iopub.execute_input": "2021-05-27T20:02:50.630303Z",
     "iopub.status.busy": "2021-05-27T20:02:50.629535Z",
     "iopub.status.idle": "2021-05-27T20:02:50.797094Z",
     "shell.execute_reply": "2021-05-27T20:02:50.797440Z"
    },
    "id": "A2_bDcB137Me",
    "outputId": "156c8a58-fbf7-4b7b-94f1-3472961d20eb"
   },
   "outputs": [
    {
     "data": {
      "image/png": "[encoded data removed]",
      "text/plain": [
       "<Figure size 360x360 with 1 Axes>"
      ]
     },
     "metadata": {
      "needs_background": "light"
     },
     "output_type": "display_data"
    }
   ],
   "source": [
    "plt.figure(figsize=[5, 5])\n",
    "lw = 2\n",
    "plt.plot(fpr, tpr, color='darkorange',\n",
    "         lw=lw, label='ROC curve (area = %0.4f)' % roc_auc)\n",
    "plt.plot([0, 1], [0, 1], color='navy', lw=lw, linestyle='--')\n",
    "plt.xlim([0.0, 1.0])\n",
    "plt.ylim([0.0, 1.05])\n",
    "plt.xlabel('False Positive Rate (1 - Specificity)')\n",
    "plt.ylabel('True Positive Rate (Sensitivity)')\n",
    "plt.legend(loc=\"lower right\")\n",
    "\n",
    "plt.show()"
   ]
  },
  {
   "cell_type": "markdown",
   "metadata": {
    "id": "gXgwRTAR37Me"
   },
   "source": [
    "## Figure 5.6"
   ]
  },
  {
   "cell_type": "code",
   "execution_count": null,
   "metadata": {
    "execution": {
     "iopub.execute_input": "2021-05-27T20:02:50.805981Z",
     "iopub.status.busy": "2021-05-27T20:02:50.801499Z",
     "iopub.status.idle": "2021-05-27T20:02:50.954349Z",
     "shell.execute_reply": "2021-05-27T20:02:50.953860Z"
    },
    "id": "-FZtBnHc37Me",
    "outputId": "3f8dbed8-ee61-4fb2-f815-ea7c0b4bfe80"
   },
   "outputs": [
    {
     "data": {
      "image/png": "[encoded data removed]",
      "text/plain": [
       "<Figure size 288x288 with 1 Axes>"
      ]
     },
     "metadata": {
      "needs_background": "light"
     },
     "output_type": "display_data"
    }
   ],
   "source": [
    "df = dmba.load_data('liftExample.csv')\n",
    "df = df.sort_values(by=['prob'], ascending=False)\n",
    "\n",
    "gainsChart(df.actual, figsize=(4, 4))\n",
    "\n",
    "plt.tight_layout()\n",
    "plt.show()"
   ]
  },
  {
   "cell_type": "markdown",
   "metadata": {
    "id": "ALk_xPlp37Me"
   },
   "source": [
    "## Figure 5.7\n",
    "The created figure differs from the R version of the graph due to variations in the assignment to the percentiles."
   ]
  },
  {
   "cell_type": "code",
   "execution_count": null,
   "metadata": {
    "execution": {
     "iopub.execute_input": "2021-05-27T20:02:51.006493Z",
     "iopub.status.busy": "2021-05-27T20:02:51.005986Z",
     "iopub.status.idle": "2021-05-27T20:02:51.190367Z",
     "shell.execute_reply": "2021-05-27T20:02:51.189862Z"
    },
    "id": "OTDNRvCR37Mf",
    "outputId": "75b47e69-919f-4b9f-83c5-1145cb7dad06"
   },
   "outputs": [
    {
     "data": {
      "image/png": "[encoded data removed]",
      "text/plain": [
       "<Figure size 432x288 with 1 Axes>"
      ]
     },
     "metadata": {
      "needs_background": "light"
     },
     "output_type": "display_data"
    }
   ],
   "source": [
    "liftChart(df.actual, labelBars=False)\n",
    "plt.tight_layout()\n",
    "plt.show()"
   ]
  },
  {
   "cell_type": "code",
   "execution_count": null,
   "metadata": {
    "id": "4K7iDMS737Mf"
   },
   "outputs": [],
   "source": []
  }
 ],
 "metadata": {
  "colab": {
   "name": "Chapter 05 - Evaluating performance.ipynb",
   "provenance": []
  },
  "kernelspec": {
   "display_name": "Python 3 (ipykernel)",
   "language": "python",
   "name": "python3"
  },
  "language_info": {
   "codemirror_mode": {
    "name": "ipython",
    "version": 3
   },
   "file_extension": ".py",
   "mimetype": "text/x-python",
   "name": "python",
   "nbconvert_exporter": "python",
   "pygments_lexer": "ipython3",
   "version": "3.9.12"
  }
 },
 "nbformat": 4,
 "nbformat_minor": 1
}
